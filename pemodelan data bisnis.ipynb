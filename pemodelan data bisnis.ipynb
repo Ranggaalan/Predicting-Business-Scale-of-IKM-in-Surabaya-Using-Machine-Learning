{
 "cells": [
  {
   "cell_type": "code",
   "execution_count": 1,
   "id": "f7a70272-21d0-439d-9849-91ac8009c907",
   "metadata": {
    "tags": []
   },
   "outputs": [],
   "source": [
    "import matplotlib.pyplot as plt\n",
    "import pandas as pd\n",
    "import pylab as pl\n",
    "import numpy as np\n",
    "%matplotlib inline\n",
    "import seaborn as sns\n",
    "import matplotlib.pyplot as plt\n",
    "from sklearn.model_selection import train_test_split\n",
    "from sklearn.tree import DecisionTreeClassifier\n",
    "import sklearn.tree as tree\n",
    "from sklearn import metrics\n",
    "from sklearn.neighbors import KNeighborsClassifier\n",
    "from sklearn.linear_model import LogisticRegression\n",
    "from sklearn.metrics import confusion_matrix\n",
    "from sklearn.metrics import jaccard_score\n",
    "from sklearn.metrics import classification_report, confusion_matrix\n",
    "import itertools\n",
    "from sklearn.metrics import log_loss\n",
    "from sklearn.cluster import KMeans\n",
    "import matplotlib.pyplot as plt\n",
    "from matplotlib import gridspec\n",
    "import matplotlib.pyplot as plt\n",
    "from statsmodels.tsa.seasonal import seasonal_decompose\n",
    "from statsmodels.graphics.tsaplots import plot_acf\n",
    "from statsmodels.tsa.stattools import adfuller"
   ]
  },
  {
   "cell_type": "code",
   "execution_count": null,
   "id": "5075570a-e293-4fc6-a668-53c03a9f1213",
   "metadata": {
    "tags": []
   },
   "outputs": [],
   "source": [
    "#read the data from the dataframe\n",
    "data = pd.read_excel(\"IKM surabaya.xlsx\")\n",
    "data"
   ]
  },
  {
   "cell_type": "code",
   "execution_count": 3,
   "id": "8a8436ee-1592-4093-b49b-1e926a5668d8",
   "metadata": {
    "tags": []
   },
   "outputs": [],
   "source": [
    "# Filter dan hapus baris dengan 'Usaha Besar' pada kolom 'Uraian Skala Usaha'\n",
    "data1 = data.loc[data['Uraian Skala Usaha'] != 'Usaha Besar']"
   ]
  },
  {
   "cell_type": "code",
   "execution_count": null,
   "id": "628992ca-3a32-4ca3-b03a-00dc80cc89f0",
   "metadata": {
    "tags": []
   },
   "outputs": [],
   "source": [
    "# Pastikan kolom yang dipilih ada dalam dataset\n",
    "selected_columns = ['Nama Perusahaan', 'Uraian Status Penanaman Modal','Uraian Jenis Perusahaan', 'Uraian Risiko Proyek', 'Judul Kbli', 'luas_tanah', 'Jumlah Investasi', 'TKI', 'Uraian Skala Usaha']\n",
    "\n",
    "# Filter data untuk hanya menampilkan baris dengan \"Judul Kbli\" = \"Industri Pencetakan Umum\"\n",
    "data1 = data1[selected_columns]\n",
    "# Tampilkan hasil filter\n",
    "data1"
   ]
  },
  {
   "cell_type": "code",
   "execution_count": 5,
   "id": "b64d8776-83ed-4bbe-b200-6b0419f6bcd2",
   "metadata": {
    "tags": []
   },
   "outputs": [
    {
     "name": "stdout",
     "output_type": "stream",
     "text": [
      "\n",
      "Tipe Data Awal:\n",
      "Nama Perusahaan                  object\n",
      "Uraian Status Penanaman Modal    object\n",
      "Uraian Jenis Perusahaan          object\n",
      "Uraian Risiko Proyek             object\n",
      "Judul Kbli                       object\n",
      "luas_tanah                       object\n",
      "Jumlah Investasi                  int64\n",
      "TKI                               int64\n",
      "Uraian Skala Usaha               object\n",
      "dtype: object\n"
     ]
    }
   ],
   "source": [
    "# Menampilkan tipe data setiap kolom\n",
    "print(\"\\nTipe Data Awal:\")\n",
    "print(data1.dtypes)"
   ]
  },
  {
   "cell_type": "code",
   "execution_count": 6,
   "id": "57e4354c-e516-4ea0-803f-c58fd148ddba",
   "metadata": {
    "tags": []
   },
   "outputs": [],
   "source": [
    "def convert_to_numeric(series):\n",
    "    # Menggunakan pd.to_numeric dengan 'errors' parameter untuk menangani nilai yang salah format\n",
    "    return pd.to_numeric(series, errors='coerce')\n",
    "data1['luas_tanah'] = convert_to_numeric(data1['luas_tanah'])"
   ]
  },
  {
   "cell_type": "code",
   "execution_count": 7,
   "id": "86c367ce-6271-4ee9-8ab2-b96750c734b0",
   "metadata": {
    "tags": []
   },
   "outputs": [
    {
     "name": "stdout",
     "output_type": "stream",
     "text": [
      "\n",
      "Tipe Data Setelah Transform:\n",
      "Nama Perusahaan                   object\n",
      "Uraian Status Penanaman Modal     object\n",
      "Uraian Jenis Perusahaan           object\n",
      "Uraian Risiko Proyek              object\n",
      "Judul Kbli                        object\n",
      "luas_tanah                       float64\n",
      "Jumlah Investasi                   int64\n",
      "TKI                                int64\n",
      "Uraian Skala Usaha                object\n",
      "dtype: object\n"
     ]
    }
   ],
   "source": [
    "# Menampilkan tipe data setiap kolom\n",
    "print(\"\\nTipe Data Setelah Transform:\")\n",
    "print(data1.dtypes)"
   ]
  },
  {
   "cell_type": "code",
   "execution_count": 8,
   "id": "1a09b56c-ba6a-4254-bc52-1150e19d678d",
   "metadata": {
    "tags": []
   },
   "outputs": [
    {
     "data": {
      "text/plain": [
       "array(['Usaha Kecil', 'Usaha Menengah', 'Usaha Mikro', nan], dtype=object)"
      ]
     },
     "execution_count": 8,
     "metadata": {},
     "output_type": "execute_result"
    }
   ],
   "source": [
    "# Menampilkan nilai unik dari kolom 'Uraian Skala Usaha'\n",
    "unique_values = data1['Uraian Skala Usaha'].unique()\n",
    "unique_values "
   ]
  },
  {
   "cell_type": "code",
   "execution_count": 9,
   "id": "1342f452-0bf7-4928-a633-6958e94228bb",
   "metadata": {
    "tags": []
   },
   "outputs": [
    {
     "data": {
      "text/plain": [
       "array(['Rendah', 'Menengah Rendah', 'Menengah Tinggi', 'Tinggi'],\n",
       "      dtype=object)"
      ]
     },
     "execution_count": 9,
     "metadata": {},
     "output_type": "execute_result"
    }
   ],
   "source": [
    "# Menampilkan nilai unik dari kolom 'Uraian Skala Usaha'\n",
    "unique_values1 = data1['Uraian Risiko Proyek'].unique()\n",
    "unique_values1 "
   ]
  },
  {
   "cell_type": "code",
   "execution_count": 10,
   "id": "4aca53d9",
   "metadata": {
    "tags": []
   },
   "outputs": [
    {
     "data": {
      "text/plain": [
       "array(['Perorangan', 'Perseroan Terbatas (PT)',\n",
       "       'Persekutuan Komanditer (CV / Commanditaire Vennootschap)',\n",
       "       'Perseroan Terbatas (PT) Perorangan', 'Badan Hukum Lainnya',\n",
       "       'Koperasi', 'PT', 'CV',\n",
       "       'Persekutuan Firma (Fa / Venootschap Onder Firma)',\n",
       "       'PT Perorangan', 'Persekutuan dan Perkumpulan', 'Yayasan',\n",
       "       'Perusahaan Umum Daerah (Perumda)', 'Badan Layanan Umum (BLU)'],\n",
       "      dtype=object)"
      ]
     },
     "execution_count": 10,
     "metadata": {},
     "output_type": "execute_result"
    }
   ],
   "source": [
    "# Menampilkan nilai unik dari kolom 'Uraian Skala Usaha'\n",
    "unique_values = data1['Uraian Jenis Perusahaan'].unique()\n",
    "unique_values "
   ]
  },
  {
   "cell_type": "code",
   "execution_count": 11,
   "id": "d7d2083e",
   "metadata": {
    "tags": []
   },
   "outputs": [
    {
     "data": {
      "text/plain": [
       "array(['Industri Bumbu Masak Dan Penyedap Masakan',\n",
       "       'Industri Furnitur Untuk Operasi, Perawatan Kedokteran Dan Kedokteran Gigi',\n",
       "       'Industri Komputer Dan/Atau Perakitan Komputer',\n",
       "       'Industri Produk Roti Dan Kue', 'Industri Pencetakan Umum',\n",
       "       'Industri Barang Dari Karet Untuk Keperluan Industri',\n",
       "       'Industri Pakaian Jadi (Konveksi) Dari Tekstil',\n",
       "       'Industri Barang Dari Plastik Untuk Pengemasan',\n",
       "       'Industri Furnitur Dari Kayu', 'Industri Tinta',\n",
       "       'Industri Produk Makanan Lainnya',\n",
       "       'Industri Tepung Campuran dan Adonan Tepung',\n",
       "       'Industri Makanan dan Masakan Olahan',\n",
       "       'Industri Minyak Goreng Kelapa Sawit',\n",
       "       'Industri Produk Masak  Lainnya', 'Industri Wadah Dari Kayu',\n",
       "       'Industri Barang Dari Logam Siap Pasang Untuk Konstruksi Lainnya',\n",
       "       'Industri Pengolahan Gula Lainnya Bukan Sirop',\n",
       "       'Industri Barang Plastik Lainnya Ytdl',\n",
       "       'Industri Berbasis Daging Lumatan Dan Surimi',\n",
       "       'Industri Kosmetik Untuk Manusia, Termasuk Pasta Gigi',\n",
       "       'Industri Barang Jadi Tekstil Untuk Keperluan Rumah Tangga',\n",
       "       'Industri Pengolahan Sari Buah Dan Sayuran',\n",
       "       'Industri Pengolahan Es Sejenisnya Yang Dapat Dimakan (Bukan Es Batu dan Es Balok)',\n",
       "       'Industri Minuman Ringan', 'Industri Barang Jadi Tekstil Lainnya',\n",
       "       'Industri Kue Basah',\n",
       "       'Industri Kerupuk, Keripik, Peyek Dan Sejenisnya',\n",
       "       'Industri Minuman Lainnya',\n",
       "       'Industri Mesin Pertanian Dan Kehutanan',\n",
       "       'Industri Pengolahan dan Pengawetan Produk Daging dan Daging Unggas',\n",
       "       'Industri Sabun Dan Bahan Pembersih Keperluan Rumah Tangga',\n",
       "       'Industri Lampu LED', 'Industri Pencetakan 3D Printing',\n",
       "       'Industri Air Minum Isi Ulang', 'Industri Pengolahan Kopi',\n",
       "       'Industri Karoseri Kendaraan Bermotor Roda Empat Atau Lebih dan Industri Trailer dan Semi Trailer',\n",
       "       'Industri Pengolahan dan Pengawetan Lainnya Buah-buahan Dan Sayuran Bukan Kacang-kacangan',\n",
       "       'Industri Mainan Anak-anak',\n",
       "       'Industri Penggaraman/Pengeringan Ikan',\n",
       "       'Industri Alas Kaki Untuk Keperluan Sehari-hari',\n",
       "       'Industri Kembang Gula Lainnya',\n",
       "       'Industri Penggaraman/Pengeringan Biota Air Lainnya',\n",
       "       'Industri Makanan Dari Cokelat Dan Kembang Gula dari Coklat',\n",
       "       'Industri Alat Ukur Dan Alat Uji Elektronik',\n",
       "       'Industri Pengolahan Produk dari Susu Lainnya',\n",
       "       'Industri Makanan Dari Kedele Dan Kacang-kacangan Lainnya Bukan Kecap, Tempe Dan Tahu',\n",
       "       'Industri Makaroni, Mie Dan Produk Sejenisnya',\n",
       "       'Industri Bumbu Rokok Serta Kelengkapan Rokok Lainnya',\n",
       "       'Industri Barang Lainnya Dari Kaca',\n",
       "       'Industri Perkakas Tangan Yang Digerakkan Tenaga',\n",
       "       'Industri Alat Ukur Waktu',\n",
       "       'Industri Pembuatan Logam Dasar Bukan Besi',\n",
       "       'Industri Ransum Makanan Hewan', 'Industri Pengolahan Teh',\n",
       "       'Industri Pembekuan Ikan', 'Industri Alat Olahraga',\n",
       "       'Industri Pengolahan Dan Pengawetan Lainnya untuk Ikan',\n",
       "       'Industri Tempe Kedelai',\n",
       "       'Industri Pengolahan Susu Segar dan Krim',\n",
       "       'Industri Pengolahan dan Pengawetan Kedelai dan Kacang-kacangan Lainnya Selain Tahu dan Tempe',\n",
       "       'Industri Kayu Bakar dan Pelet Kayu', 'Industri Tahu Kedelai',\n",
       "       'Industri Perlengkapan Dan Peralatan Rumah Tangga (tidak Termasuk Furnitur)',\n",
       "       'Industri Bangunan Lepas Pantai Dan Bangunan Terapung',\n",
       "       'Industri Berbasis Lumatan Biota Air Lainnya',\n",
       "       'Industri Mesin dan Perkakas Mesin Untuk Pengelasan Yang Menggunakan Arus Listrik',\n",
       "       'Industri Kerajinan Ukiran Dari Kayu Bukan Mebeller',\n",
       "       'Industri Barang Dari Logam Aluminium Siap Pasang Untuk Bangunan',\n",
       "       'Industri Pemindangan Ikan',\n",
       "       'Industri Produk Obat Tradisional untuk Manusia',\n",
       "       'Industri Penempaan, Pengepresan, Pencetakan Dan Pembentukan Logam; Metalurgi Bubuk',\n",
       "       'Industri Cat dan Tinta Cetak', 'Industri Perlengkapan Komputer',\n",
       "       'Industri Kerajinan YTDL', 'Industri Pembekuan Biota Air Lainnya',\n",
       "       'Industri Pengeringan Buah-buahan Dan Sayuran',\n",
       "       'Industri Pupuk Lainnya',\n",
       "       'Industri Pakaian Jadi (Konveksi) Dari Kulit',\n",
       "       'Industri Furnitur Lainnya', 'Industri Produk Masak Dari Kelapa',\n",
       "       'Industri Peralatan Pemanas Dan Masak Bukan Listrik Rumah Tangga',\n",
       "       'Industri Suku Cadang dan Aksesori Kendaraan Bermotor Roda Empat Atau Lebih',\n",
       "       'Industri Pembekuan Buah-buahan Dan Sayuran',\n",
       "       'Industri Perlengkapan Rumah Tangga Dari Porselen',\n",
       "       'Industri Komponen Dan Perlengkapan Sepeda Motor Roda Dua Dan Tiga',\n",
       "       'Industri Kimia Dasar Organik Yang Menghasilkan Bahan Kimia Khusus',\n",
       "       'Industri Peralatan, Perlengkapan Dan Bagian Kapal',\n",
       "       'Industri Minyak Mentah dan Lemak Nabati',\n",
       "       'Industri Manisan Buah-buahan Dan Sayuran Kering',\n",
       "       'Industri Barang Dari Semen, Kapur, Gips dan Asbes Lainnya',\n",
       "       'Industri Peralatan Listrik Lainnya',\n",
       "       'Industri Pipa Dan Sambungan Pipa Dari Logam Bukan Besi Dan Baja',\n",
       "       'Industri Barang Dari Batu Untuk Keperluan Rumah Tangga, Pajangan, dan Bahan Bangunan',\n",
       "       'Industri Produk Dari Hasil Kilang Minyak Bumi',\n",
       "       'Industri Air Kemasan',\n",
       "       'Industri Besi Dan Baja Dasar (Iron And Steel Making)',\n",
       "       'Industri Mesin Penambangan, Penggalian Dan Konstruksi',\n",
       "       'Industri Kapal Dan Perahu',\n",
       "       'Industri Peralatan Pengontrol dan Pendistribusian Listrik',\n",
       "       'Industri Pencetakan Kain',\n",
       "       'Industri Pengecoran Logam Bukan Besi Dan Baja',\n",
       "       'Industri Mesin Penyiapan Dan Pembuatan Produk Kulit',\n",
       "       'Industri Bahan Bangunan Dari Tanah Liat/Keramik Bukan Batu Bata Dan Genteng',\n",
       "       'Industri Peralatan Untuk Pelindung Keselamatan',\n",
       "       'Industri Mesin Pengolahan Makanan, Minuman Dan Tembakau',\n",
       "       'Industri Pengasinan Buah-buahan Dan Sayuran',\n",
       "       'Industri Konsentrat Makanan Hewan', 'Industri Makanan Sereal',\n",
       "       'Industri Alat Angkutan Lainnya YTDL',\n",
       "       'Industri Kayu Lapis Laminasi, Termasuk Decorative Plywood',\n",
       "       'Industri Barang Dari Marmer, Granit Dan Batu Lainnya',\n",
       "       'Industri Penggilingan Gandum dan Serelia Lainnya',\n",
       "       'Industri Perlengkapan Pakaian Dari Kulit',\n",
       "       'Industri Peragian/Fermentasi Biota Air Lainnya',\n",
       "       'Industri Pakaian Jadi Sulaman/Bordir',\n",
       "       'Industri Kimia Dasar Organik Yang Bersumber Dari Hasil Pertanian',\n",
       "       'Industri Pengolahan Es Krim', 'Industri Pengecoran Besi Dan Baja',\n",
       "       'Industri Sepeda Motor Roda Dua Dan Tiga',\n",
       "       'Industri pengolahan rumput laut',\n",
       "       'Industri Jarum Mesin Jahit, Rajut, Bordir Dan Sejenisnya',\n",
       "       'Industri Margarine', 'Industri Akumulator Listrik',\n",
       "       'Industri Alat Potong dan Perkakas Tangan Untuk Pertanian',\n",
       "       'Industri Peragian/Fermentasi Ikan',\n",
       "       'Industri Peralatan Tenaga Zat Cair dan Gas',\n",
       "       'Industri Mesin Pendingin',\n",
       "       'Industri Pengolahan dan Pengawetan Buah-buahan dan Sayuran Dalam Kaleng',\n",
       "       'Industri Bahan Baku Obat Tradisional untuk Manusia',\n",
       "       'Industri Pakaian Jadi dan Barang Dari Kulit Berbulu',\n",
       "       'Industri Minyak Atsiri',\n",
       "       'Industri Pompa Lainnya, Kompresor, Kran dan Klep/Katup',\n",
       "       'Industri Keperluan Rumah Tangga Dari Logam Bukan Peralatan Dapur dan Peralatan Meja',\n",
       "       'Industri Produk Farmasi Untuk Manusia', 'Industri Sirop',\n",
       "       'Industri Pipa Dan Sambungan Pipa Dari Baja Dan Besi',\n",
       "       'Industri Pengolahan Lainnya YTDL',\n",
       "       'Industri Generator Uap, Bukan Ketel Pemanas',\n",
       "       'Industri Alat Permainan',\n",
       "       'Industri Mesin dan Perkakas Mesin Untuk Pengerjaan Logam',\n",
       "       'Industri Yang Menghasilkan Kain Keperluan Industri',\n",
       "       'Industri Peralatan Penerangan Lainnya',\n",
       "       'Industri Peralatan Audio dan Video Elektronik Lainnya',\n",
       "       'Industri Alat Kesehatan dalam Subgolongan 2101',\n",
       "       'Industri Penyempurnaan Kain',\n",
       "       'Industri barang Anyaman Dari Tanaman Bukan Rotan Dan Bambu',\n",
       "       'Industri Alat Tulis Dan Gambar Termasuk Perlengkapannya',\n",
       "       'Industri Brankas, Filling Kantor dan Sejenisnya',\n",
       "       'Industri Minyak Atsiri Rantai Tengah', 'Industri Kain Tenun Ikat',\n",
       "       'Industri Mesin Keperluan Khusus Lainnya',\n",
       "       'Industri Penggergajian Kayu',\n",
       "       'Industri Barang Dari Logam Bukan Aluminium Siap Pasang Untuk Bangunan',\n",
       "       'INDUSTRI AIR MINUM DAN AIR MINERAL',\n",
       "       'Industri Penggilingan Baja (Steel Rolling)',\n",
       "       'Industri Alat Potong Dan Perkakas Tangan Yang Digunakan Dalam Rumah Tangga',\n",
       "       'Industri Barang dari Plastik Untuk Bangunan',\n",
       "       'Industri Mesin Untuk Pembungkus, Pembotolan Dan Pengalengan',\n",
       "       'Industri Perekat/Lem', 'Industri Barang Dari Karet Lainnya Ytdl',\n",
       "       'Industri Konstruksi Berat Siap Pasang Dari Baja Untuk Bangunan',\n",
       "       'Industri Mesin Timbangan', 'Industri Sepatu Olahraga',\n",
       "       'Industri Pengolahan Garam',\n",
       "       'Industri Kendaraan Bermotor Roda Empat Atau Lebih',\n",
       "       'Industri Peralatan Komunikasi Lainnya',\n",
       "       'Industri Mesin Uap, Turbin Dan Kincir',\n",
       "       'Industri Sepeda Dan Kursi Roda Termasuk Becak',\n",
       "       'Industri Barang Kimia Lainnya YTDL',\n",
       "       'Industri Penggilingan Padi Dan Penyosohan Beras',\n",
       "       'Industri Barang Dari Semen Dan Kapur Untuk Konstruksi',\n",
       "       'Industri Komponen Dan Suku Cadang Mesin Dan Turbin',\n",
       "       'Industri Bahan Farmasi Untuk Manusia',\n",
       "       'Industri Furnitur Dari Logam',\n",
       "       'Industri Kimia Dasar Organik Yang Bersumber Dari Minyak Bumi, Gas Alam Dan Batu Bara',\n",
       "       'Industri Bangunan Prafabrikasi Dari Kayu',\n",
       "       'Industri Ember, Kaleng, Drum Dan Wadah Sejenis Dari Logam',\n",
       "       'Industri Barang Dari Kertas Dan Papan Kertas Lainnya YTDL',\n",
       "       'Industri Kimia Dasar Anorganik Lainnya', 'Industri Kecap',\n",
       "       'Industri Pengawetan Kayu', 'Industri Pencetakan Khusus',\n",
       "       'Industri Pendinginan/Pengesan Ikan',\n",
       "       'Industri Kimia Dasar Anorganik Pigmen',\n",
       "       'Industri Alat Ukur Dan Alat Uji Manual',\n",
       "       'Industri Peralatan Umum',\n",
       "       'Industri Kemasan Dan Kotak Dari Kertas Dan Karton',\n",
       "       'Industri Minyak Goreng Kelapa',\n",
       "       'Industri Alat Pengangkat Dan Pemindah',\n",
       "       'Industri Kabel Listrik Dan Elektronik Lainnya',\n",
       "       'Industri Mortar atau Beton Siap Pakai',\n",
       "       'Industri Kimia Dasar Organik Untuk  Bahan Baku Zat Warna Dan Pigmen, Zat Warna Dan Pigmen',\n",
       "       'Industri Mesin Untuk Keperluan Umum Lainnya Ytdl',\n",
       "       'Industri Alat Laboratorium Dan Alat Listrik/Teknik Dari Porselen',\n",
       "       'Industri Barang Dari Kayu, Rotan, Gabus Lainnya YTDL',\n",
       "       'Industri Barang Dari Kawat',\n",
       "       'Industri Pemberantas Hama (Formulasi)',\n",
       "       'Industri Furnitur Dari Rotan Dan Atau Bambu',\n",
       "       'Industri Barang Perhiasan Dari Logam Mulia Untuk Keperluan Pribadi',\n",
       "       'Industri Pengasapan/Pemanggangan Ikan', 'Industri Vulkanisir Ban',\n",
       "       'Industri Veneer', 'Industri Motor Listrik', 'Industri Tali',\n",
       "       'Industri Barang Dari Marmer Dan Granit Untuk Keperluan Rumah Tangga Dan Pajangan',\n",
       "       'Industri Paku, Mur Dan Baut', 'Industri Barang Dari Kapur',\n",
       "       'Industri Barang Logam Lainnya YTDL',\n",
       "       'Industri Peralatan Elektrotermal Rumah Tangga',\n",
       "       'Industri Penggilingan Dan Pembersihan Jagung',\n",
       "       'Industri Karpet dan Permadani',\n",
       "       'Industri Barang Bangunan Dari Kayu',\n",
       "       'Industri Peralatan Kedokteran Dan Kedokteran Gigi, Perlengkapan Orthopaedic Dan Prosthetic',\n",
       "       'Industri Pembuatan Logam Dasar Mulia',\n",
       "       'Industri Peralatan Listrik Rumah Tangga', 'Industri Kapur',\n",
       "       'Industri Pupuk Alam/Non Sintetis Hara Makro Primer',\n",
       "       'Industri Pengolahan Susu Bubuk dan Susu Kental',\n",
       "       'Industri Pengubah Tegangan (Transformator), Pengubah Arus (Rectifier) Dan Pengontrol Tegangan (Voltage Stabilizer)',\n",
       "       'Industri Bahan Bakar Dari Pemurnian Dan Pengilangan Minyak Bumi',\n",
       "       'Industri Barang Plastik Lembaran',\n",
       "       'Industri Damar Buatan (Resin Sintetis) Dan Bahan Baku Plastik',\n",
       "       'Industri Remilling Karet', 'Industri Gula Merah',\n",
       "       'Industri Perhiasan Imitasi dan Barang Sejenis',\n",
       "       'Industri Oven, Perapian dan Tungku Pembakar Sejenis Yang Menggunakan Arus Listrik',\n",
       "       'Industri Perlengkapan Pakaian Dari Tekstil',\n",
       "       'Industri Pelumatan Buah-buahan Dan Sayuran',\n",
       "       'Industri Barang Jadi Rajutan dan Sulaman',\n",
       "       'Industri Pipa Plastik Dan Perlengkapannya',\n",
       "       'Industri Mesin Percetakan', 'Industri Kopra',\n",
       "       'Industri Peralatan Kedokteran Dan Kedokteran Gigi Serta Perlengkapan Lainnya',\n",
       "       'Industri Tangki, Tandon Air Dan Wadah Dari Logam',\n",
       "       'Industri Kayu Lapis', 'Industri Bahan Amelioran (Pembenah Tanah)',\n",
       "       'Industri Barang Dari Kulit Dan Kulit Komposisi Untuk Keperluan Lainnya',\n",
       "       'Industri Furnitur Dari Plastik',\n",
       "       'Industri Penggilingan Aneka  Umbi Dan Sayuran (Termasuk Rhizoma)',\n",
       "       'Industri Pengolahan Herbal (herb infusion)',\n",
       "       'Industri Bearing, Roda Gigi dan Elemen Penggerak Mesin',\n",
       "       'Industri Serat Sabut Kelapa',\n",
       "       'Industri Barang Dari Kulit Dan Kulit Komposisi Untuk Keperluan Teknik/Industri',\n",
       "       'Industri Senjata Dan Amunisi', 'Industri Dodol',\n",
       "       'Industri Mesin Kantor Dan Akuntansi Elektrik',\n",
       "       'Industri Penggilingan Aneka Kacang (Termasuk leguminous)',\n",
       "       'Industri Mesin Pembangkit Listrik',\n",
       "       'Industri Bola Lampu Pijar, Lampu Penerangan Terpusat Dan Lampu Ultra Violet',\n",
       "       'Industri Batik', 'Industri Barang Dari Tali',\n",
       "       'Industri Penyamakan Kulit',\n",
       "       'Industri Sepatu Teknik Lapangan/Keperluan Industri',\n",
       "       'Industri Oven, Perapian dan Tungku Pembakar Sejenis Yang Tidak Menggunakan Arus Listrik',\n",
       "       'Industri Semi Konduktor Dan Komponen Elektronik Lainnya',\n",
       "       'Industri Kain Sulaman',\n",
       "       'Industri Kimia Dasar Anorganik Gas Industri',\n",
       "       'Industri Tekstil Lainnya YTDL',\n",
       "       'Industri Pupuk Hara Makro Sekunder',\n",
       "       'Industri Alat Dapur Dari Kayu, Rotan Dan Bambu',\n",
       "       'Industri produk dari batu bara',\n",
       "       'Industri Mesin dan Peralatan Kantor Lainnya',\n",
       "       'Industri Perlengkapan Rumah Tangga Dari Tanah Liat/Keramik',\n",
       "       'Industri Pengolahan dan Pengawetan Udang Dalam Kaleng',\n",
       "       'Industri Kembang Gula ',\n",
       "       'Industri Barang Dari Kulit Dan Kulit Komposisi Untuk Keperluan Pribadi',\n",
       "       'Industri Alat Ukur Dan Alat Uji Elektrik',\n",
       "       'Industri Barang Tanah Liat/Keramik dan Porselen Lainnya Bukan Bahan Bangunan',\n",
       "       'Industri Barang dari Gips Untuk Konstruksi',\n",
       "       'Industri Pupuk Pelengkap', 'Industri Minyak Ikan',\n",
       "       'Industri Karet Remah (Crumb Rubber)', 'Industri Kertas Tissue',\n",
       "       'Industri Barang Dan Peralatan Teknik/Industri Dari Plastik',\n",
       "       'Industri Pengolahan Rotan',\n",
       "       'Industri Barang Dari Marmer Dan Granit Untuk Keperluan Bahan Bangunan',\n",
       "       'Industri Makanan Bayi', 'Industri Kain Rajutan',\n",
       "       'Industri Peralatan Telepon Dan Faksimili',\n",
       "       'Industri Rajutan Kaos Kaki dan Sejenisnya',\n",
       "       'Industri Pati Ubi Kayu',\n",
       "       'Industri Barang dari Karet untuk Keperluan Infrastruktur',\n",
       "       'Industri Barang Dari Karet Untuk Keperluan Rumah Tangga',\n",
       "       'Industri Pengeringan Dan Pengolahan Tembakau',\n",
       "       'Industri Perlengkapan Kabel',\n",
       "       'Industri Kartu Cerdas (Smart Card)', 'Industri Karung Goni',\n",
       "       'Industri Briket Batu Bara',\n",
       "       'Industri Peralatan Perekam, Penerima dan Pengganda Audio Dan Video, Bukan Industri Televisi',\n",
       "       'Industri Barang Perhiasan Dari Logam Mulia Bukan Untuk Keperluan Pribadi',\n",
       "       'Industri Barang Galian Bukan Logam Lainnya Ytdl',\n",
       "       'Industri Minyak Mentah Kelapa',\n",
       "       'Industri Mesin Jahit Serta Mesin Cuci Dan Mesin Pengering Untuk Keperluan Niaga',\n",
       "       'Industri Mesin Fotocopi', 'Industri Rokok Lainnya',\n",
       "       'Industri Minyak Mentah Inti Kelapa Sawit (Crude Palm Kernel Oil)',\n",
       "       'Industri Kimia Dasar Anorganik Khlor Dan Alkali',\n",
       "       'Industri Kertas Lainnya',\n",
       "       'Industri Peralatan Elektromedikal dan Elektroterapi',\n",
       "       'Industri Karung Bukan Goni',\n",
       "       'Industri Barang Anyaman Dari Rotan Dan Bambu',\n",
       "       'Industri Perhiasan Mutiara', 'Industri Pakaian Jadi Rajutan',\n",
       "       'Industri Kertas Budaya', 'Industri Penggilingan Logam Bukan Besi',\n",
       "       'Industri Glukosa Dan Sejenisnya',\n",
       "       'Industri Non Woven (bukan Tenunan)', 'Industri Gips',\n",
       "       'Industri Peralatan Penerangan Untuk Alat Transportasi',\n",
       "       'Industri Minyak Goreng Bukan Minyak Kelapa Dan Minyak Kelapa Sawit',\n",
       "       'Industri Pupuk Buatan Majemuk Hara Makro Primer',\n",
       "       'Industri Peralatan Fotografi', 'Industri Tepung Terigu',\n",
       "       'Industri Barang Dari Semen', 'Industri Bantal dan Sejenisnya',\n",
       "       'Industri Bulu Tiruan Tenunan',\n",
       "       'Industri Berbagai Macam Pati Palma', 'Industri Karet Buatan',\n",
       "       'Industri Kulit Komposisi',\n",
       "       'Industri Pengasapan/Pemanggangan Biota Air Lainnya',\n",
       "       'Industri Alat-alat Laboratorium Non Klinis, Farmasi Dan Kesehatan Dari Kaca',\n",
       "       'Industri Mesin dan Perkakas Mesin Untuk Pengerjaan Kayu',\n",
       "       'Industri Pelet Kelapa',\n",
       "       'Industri Pupuk Buatan Campuran Hara Makro Primer',\n",
       "       'Industri Kemasan Dari Kaca', 'Industri Batu Baterai ',\n",
       "       'Industri Pengolahan Minyak Pelumas Bekas Menjadi Bahan Bakar',\n",
       "       'Industri Pengolahan Dan Pengawetan Lainnya untuk Biota Air Lainnya',\n",
       "       'Industri Peralatan Dapur Dan Peralatan Meja Dari Logam',\n",
       "       'Industri Kabel Serat Optik', 'Industri Motor Pembakaran Dalam',\n",
       "       'Industri Perlengkapan Sepeda Dan Kursi Roda Termasuk Becak',\n",
       "       'Industri Bubur Kertas (Pulp)',\n",
       "       'Industri Genteng Dari Tanah Liat/Keramik',\n",
       "       'Industri Alat Potong dan Perkakas Tangan Pertukangan',\n",
       "       'Industri Alat Uji Dalam Proses Industri',\n",
       "       'Industri Barang Jadi Tekstil Sulaman', 'Industri Permata',\n",
       "       'Industri Partikel Kayu dan Sejenisnya', 'Industri Kakao',\n",
       "       'Industri Tepung Beras Dan Tepung Jagung',\n",
       "       'Industri Pembuatan Profil',\n",
       "       'Industri Fabrikasi Elemen Bakar Uranium',\n",
       "       'Industri Sigaret Kretek Tangan',\n",
       "       'Industri Pupuk Buatan Tunggal Hara Makro Primer',\n",
       "       'Industri Kaca Lainnya', 'Industri Gula Pasir',\n",
       "       'Industri Persiapan Serat Tekstil',\n",
       "       'Industri Kimia Dasar Organik Lainnya',\n",
       "       'Industri Pernis (Termasuk Mastik)', 'Industri Kertas Khusus',\n",
       "       'Industri Bahan Baku Pemberantas Hama (Bahan Aktif)',\n",
       "       'Industri Pembuatan Minyak Pelumas',\n",
       "       'Industri Pendinginan/Pengesan Biota Air Lainnya',\n",
       "       'Industri Pembuatan Kapal dan Perahu Untuk Tujuan Wisata atau Rekreasi dan Olahraga',\n",
       "       'Industri Kain Pita (Narrow Fabric)',\n",
       "       'Industri Pemisahan/Fraksinasi Minyak Murni Kelapa Sawit',\n",
       "       'Industri Peralatan Komunikasi Tanpa kabel (Wireless)',\n",
       "       'Industri Barang Lainnya Dari Logam Mulia',\n",
       "       'Industri Barang Dari Logam Mulia Untuk Keperluan Teknik Dan Atau Laboratorium',\n",
       "       'Industri Perlengkapan Dan Peralatan Rumah Tangga Dari Kaca',\n",
       "       'Industri Media Tanam', 'Industri Pupuk Hara Mikro',\n",
       "       'Industri Minuman Beralkohol Hasil Destilasi', 'Industri Lak',\n",
       "       'Industri Pertenunan (Bukan Pertenunan Karung Goni Dan Karung Lainnya)',\n",
       "       'Industri Malt',\n",
       "       'Industri Barang Dari Kulit Dan Kulit Komposisi Untuk Keperluan Hewan',\n",
       "       'Industri Alat Musik Bukan Tradisional',\n",
       "       'Industri Alat Laboratorium Klinis dari Kaca',\n",
       "       'Industri Lokomotif dan Gerbong Kereta',\n",
       "       'Industri Barang Dari Asbes Untuk Keperluan Bahan Bangunan',\n",
       "       'Industri Minyak Mentah Kelapa Sawit (Crude Palm Oil)',\n",
       "       'Industri Panel Kayu Lainnya',\n",
       "       'Industri Pemisahan/Fraksinasi Minyak Murni Inti Kelapa Sawit',\n",
       "       'Industri Kamera Cinematografi Proyektor Dan Perlengkapannya',\n",
       "       'Industri Alas Kaki Lainnya', 'Industri Pencelupan Kulit Bulu',\n",
       "       'Industri Pati dan Produk Pati Lainnya',\n",
       "       'Industri Mesin Metalurgi',\n",
       "       'Industri Peralatan Saniter Dari Porselen',\n",
       "       'Industri Minyak Mentah Dan Lemak Nabati Dan Hewani Lainnya',\n",
       "       'Industri Mesin Pabrik Kertas',\n",
       "       'Industri Kertas dan Papan Kertas Bergelombang',\n",
       "       'Industri Penyempurnaan Benang', 'Industri Pati Beras dan Jagung',\n",
       "       'Industri Lampu Tabung Gas (Lampu Pembuang Listrik)',\n",
       "       'Industri Kabinet Mesin Jahit', 'Industri Krimer Nabati',\n",
       "       'Industri Pemintalan Benang', 'Industri Kayu Laminasi',\n",
       "       'Industri Pengolahan dan Pengawetan Ikan dan Biota Air  (Bukan Udang) Dalam Kaleng',\n",
       "       'Industri Batu Bata Dari Tanah Liat/Keramik',\n",
       "       'Industri Pengolahan Kembali Minyak Pelumas Bekas',\n",
       "       'Industri Kaca Lembaran', 'Industri Perekat Gigi',\n",
       "       'Industri Sigaret Kretek Mesin', 'Industri Rokok Putih',\n",
       "       'Industri Produk Farmasi Untuk Hewan', 'Industri Mesin Tekstil',\n",
       "       'Industri Kaca Mata',\n",
       "       'Industri Produk Obat Tradisional Untuk Hewan',\n",
       "       'Industri Tabung Elektron Dan Konektor Elektronik',\n",
       "       'Industri Pengawetan Rotan, Bambu Dan Sejenisnya',\n",
       "       'Industri Bahan Farmasi Untuk Hewan',\n",
       "       'Industri Serat/Benang/Strip Filamen Buatan',\n",
       "       'Industri Pengawetan Kulit'], dtype=object)"
      ]
     },
     "execution_count": 11,
     "metadata": {},
     "output_type": "execute_result"
    }
   ],
   "source": [
    "# Menampilkan nilai unik dari kolom 'Uraian Skala Usaha'\n",
    "unique_values = data1['Judul Kbli'].unique()\n",
    "unique_values "
   ]
  },
  {
   "cell_type": "code",
   "execution_count": 12,
   "id": "0528bc16",
   "metadata": {
    "tags": []
   },
   "outputs": [
    {
     "data": {
      "text/plain": [
       "array(['PMDN'], dtype=object)"
      ]
     },
     "execution_count": 12,
     "metadata": {},
     "output_type": "execute_result"
    }
   ],
   "source": [
    "# Menampilkan nilai unik dari kolom 'Uraian Skala Usaha'\n",
    "unique_values = data1['Uraian Status Penanaman Modal'].unique()\n",
    "unique_values "
   ]
  },
  {
   "cell_type": "code",
   "execution_count": 13,
   "id": "8aa9021a-e1d9-4c27-9aef-d6ebaf55ec05",
   "metadata": {
    "tags": []
   },
   "outputs": [
    {
     "name": "stdout",
     "output_type": "stream",
     "text": [
      "['Perorangan' 'PT' 'CV' 'PT Perorangan' 'Badan Hukum Lainnya' 'Koperasi'\n",
      " 'Firma' 'Persekutuan dan Perkumpulan' 'Yayasan' 'Perumda' 'BLU']\n"
     ]
    }
   ],
   "source": [
    "# Definisikan mapping untuk menyamakan format value\n",
    "jenis_perusahaan_map = {\n",
    "    'Perorangan' : 'Perorangan',\n",
    "    'Perseroan Terbatas (PT)': 'PT',\n",
    "    'Perseroan Terbatas (PT) Perorangan': 'PT Perorangan',\n",
    "    'Persekutuan Komanditer (CV / Commanditaire Vennootschap)': 'CV',\n",
    "    'Persekutuan Firma (Fa / Venootschap Onder Firma)': 'Firma',\n",
    "    'Persekutuan dan Perkumpulan': 'Persekutuan dan Perkumpulan',\n",
    "    'Badan Hukum Lainnya': 'Badan Hukum Lainnya',\n",
    "    'Badan Layanan Umum (BLU)': 'BLU',\n",
    "    'Perusahaan Umum Daerah (Perumda)': 'Perumda',\n",
    "    # Tambahkan map lainnya sesuai kebutuhan\n",
    "}\n",
    "\n",
    "# Transformasi data dengan map\n",
    "data1['Uraian Jenis Perusahaan'] = data1['Uraian Jenis Perusahaan'].replace(jenis_perusahaan_map)\n",
    "\n",
    "# Tampilkan hasil transformasi\n",
    "print(data1['Uraian Jenis Perusahaan'].unique())"
   ]
  },
  {
   "cell_type": "code",
   "execution_count": null,
   "id": "d8c0be07-1843-4ca6-97ef-6337291778b2",
   "metadata": {
    "tags": []
   },
   "outputs": [],
   "source": [
    "data1"
   ]
  },
  {
   "cell_type": "code",
   "execution_count": null,
   "id": "37563545-be97-4ddf-8907-02d19ff204fa",
   "metadata": {
    "tags": []
   },
   "outputs": [],
   "source": [
    "import pandas as pd\n",
    "from sklearn.preprocessing import LabelEncoder\n",
    "\n",
    "\n",
    "# Define columns to encode (excluding those that we'll manually encode)\n",
    "columns_to_encode = ['Judul Kbli']\n",
    "\n",
    "# Initialize LabelEncoders\n",
    "label_encoders = {col: LabelEncoder() for col in columns_to_encode}\n",
    "\n",
    "# Perform label encoding on each column\n",
    "for col in columns_to_encode:\n",
    "    data[col] = label_encoders[col].fit_transform(data[col])\n",
    "\n",
    "# Manually encode 'Uraian Skala Usaha'\n",
    "scale_mapping = {'Usaha Kecil': 1, 'Usaha Menengah': 2, 'Usaha Mikro': 0}\n",
    "data1['Uraian Skala Usaha'] = data1['Uraian Skala Usaha'].map(scale_mapping)\n",
    "\n",
    "# Manually encode 'Uraian Risiko Proyek'\n",
    "risk_mapping = {'Rendah': 0, 'Menengah Rendah': 1, 'Menengah Tinggi': 2, 'Tinggi': 3}\n",
    "data1['Uraian Risiko Proyek'] = data1['Uraian Risiko Proyek'].map(risk_mapping)\n",
    "\n",
    "# Manually encode 'Uraian Jenis Perusahaan'\n",
    "company_mapping = {\n",
    "    'Perorangan': 0,\n",
    "    'PT': 1,\n",
    "    'CV': 3,\n",
    "    'PT Perorangan': 2,\n",
    "    'Badan Hukum Lainnya': 4,\n",
    "    'Koperasi': 5,\n",
    "    'Firma': 6,\n",
    "    'Persekutuan dan Perkumpulan': 7,\n",
    "    'Yayasan': 8,\n",
    "    'Perumda': 9,\n",
    "    'BLU': 10\n",
    "}\n",
    "data1['Uraian Jenis Perusahaan'] = data1['Uraian Jenis Perusahaan'].map(company_mapping)\n",
    "\n",
    "# Print the DataFrame to check the changes\n",
    "data1"
   ]
  },
  {
   "cell_type": "code",
   "execution_count": null,
   "id": "14e77a78-fabd-4d3e-832a-82db3aa3b391",
   "metadata": {
    "tags": []
   },
   "outputs": [],
   "source": [
    "data1"
   ]
  },
  {
   "cell_type": "code",
   "execution_count": 17,
   "id": "34d4c516-bb9c-439b-b274-598ddcb1ef9a",
   "metadata": {
    "tags": []
   },
   "outputs": [
    {
     "data": {
      "text/plain": [
       "array([ 0,  1,  3,  2,  4,  5,  6,  7,  8,  9, 10], dtype=int64)"
      ]
     },
     "execution_count": 17,
     "metadata": {},
     "output_type": "execute_result"
    }
   ],
   "source": [
    "# Menampilkan nilai unik dari kolom 'Uraian Skala Usaha'\n",
    "unique_values = data1['Uraian Jenis Perusahaan'].unique()\n",
    "unique_values "
   ]
  },
  {
   "cell_type": "code",
   "execution_count": 18,
   "id": "f7f95af8-d339-4eb0-840d-bc6b9bc38152",
   "metadata": {
    "tags": []
   },
   "outputs": [
    {
     "data": {
      "text/plain": [
       "array([ 1.,  2.,  0., nan])"
      ]
     },
     "execution_count": 18,
     "metadata": {},
     "output_type": "execute_result"
    }
   ],
   "source": [
    "# Menampilkan nilai unik dari kolom 'Uraian Skala Usaha'\n",
    "unique_values = data1['Uraian Skala Usaha'].unique()\n",
    "unique_values "
   ]
  },
  {
   "cell_type": "code",
   "execution_count": 19,
   "id": "716831cb-b7f5-431a-8c43-c4eff443bee0",
   "metadata": {
    "tags": []
   },
   "outputs": [
    {
     "name": "stdout",
     "output_type": "stream",
     "text": [
      "Jumlah nilai kosong untuk setiap fitur:\n",
      "Nama Perusahaan                    0\n",
      "Uraian Status Penanaman Modal      0\n",
      "Uraian Jenis Perusahaan            0\n",
      "Uraian Risiko Proyek               0\n",
      "Judul Kbli                         0\n",
      "luas_tanah                       182\n",
      "Jumlah Investasi                   0\n",
      "TKI                                0\n",
      "Uraian Skala Usaha                17\n",
      "dtype: int64\n"
     ]
    }
   ],
   "source": [
    "# Cek nilai kosong pada masing-masing fitur atau variabel\n",
    "missing_values = data1.isnull().sum()\n",
    "\n",
    "# Tampilkan jumlah nilai kosong untuk setiap fitur\n",
    "print(\"Jumlah nilai kosong untuk setiap fitur:\")\n",
    "print(missing_values)"
   ]
  },
  {
   "cell_type": "code",
   "execution_count": 20,
   "id": "e84dc159-4b8c-4ca1-b4f2-43f1786cbc5a",
   "metadata": {
    "tags": []
   },
   "outputs": [],
   "source": [
    "# Menghapus baris dengan nilai NaN pada kolom 'luas_tanah'\n",
    "data1 = data1.dropna(subset=['luas_tanah'])"
   ]
  },
  {
   "cell_type": "code",
   "execution_count": null,
   "id": "c96e78a3-7e72-4e4d-9589-f2472213f1bd",
   "metadata": {
    "tags": []
   },
   "outputs": [],
   "source": [
    "# Drop the column you want to delete\n",
    "data1 = data1.drop(columns=['Uraian Status Penanaman Modal'])\n",
    "data1"
   ]
  },
  {
   "cell_type": "code",
   "execution_count": 22,
   "id": "5cde3a7a-c615-4662-a4d2-e41a14727793",
   "metadata": {
    "tags": []
   },
   "outputs": [],
   "source": [
    "# Memisahkan data dengan NaN pada kolom 'Uraian Skala Usaha'\n",
    "data_nan = data1[data1['Uraian Skala Usaha'].isna()]\n",
    "\n",
    "# Menghapus baris dengan NaN pada kolom 'Uraian Skala Usaha' dari data asli\n",
    "data1 = data1.dropna(subset=['Uraian Skala Usaha'])"
   ]
  },
  {
   "cell_type": "code",
   "execution_count": null,
   "id": "b9c27cbf-ad59-47f1-9ae3-570e2b9a8c53",
   "metadata": {
    "tags": []
   },
   "outputs": [],
   "source": [
    "data_nan"
   ]
  },
  {
   "cell_type": "code",
   "execution_count": null,
   "id": "e7a52793-876f-401e-8cb6-052b022fef67",
   "metadata": {
    "tags": []
   },
   "outputs": [],
   "source": [
    "data1"
   ]
  },
  {
   "cell_type": "code",
   "execution_count": 25,
   "id": "804ca44b-84e1-4430-ba56-35f7a3484f2e",
   "metadata": {
    "tags": []
   },
   "outputs": [
    {
     "data": {
      "text/html": [
       "<div>\n",
       "<style scoped>\n",
       "    .dataframe tbody tr th:only-of-type {\n",
       "        vertical-align: middle;\n",
       "    }\n",
       "\n",
       "    .dataframe tbody tr th {\n",
       "        vertical-align: top;\n",
       "    }\n",
       "\n",
       "    .dataframe thead th {\n",
       "        text-align: right;\n",
       "    }\n",
       "</style>\n",
       "<table border=\"1\" class=\"dataframe\">\n",
       "  <thead>\n",
       "    <tr style=\"text-align: right;\">\n",
       "      <th></th>\n",
       "      <th>Uraian Jenis Perusahaan</th>\n",
       "      <th>Uraian Risiko Proyek</th>\n",
       "      <th>luas_tanah</th>\n",
       "      <th>Jumlah Investasi</th>\n",
       "      <th>TKI</th>\n",
       "      <th>Uraian Skala Usaha</th>\n",
       "    </tr>\n",
       "  </thead>\n",
       "  <tbody>\n",
       "    <tr>\n",
       "      <th>3</th>\n",
       "      <td>1</td>\n",
       "      <td>0</td>\n",
       "      <td>300.0</td>\n",
       "      <td>400000000</td>\n",
       "      <td>20</td>\n",
       "      <td>1.0</td>\n",
       "    </tr>\n",
       "    <tr>\n",
       "      <th>4</th>\n",
       "      <td>3</td>\n",
       "      <td>0</td>\n",
       "      <td>500.0</td>\n",
       "      <td>300000000</td>\n",
       "      <td>14</td>\n",
       "      <td>0.0</td>\n",
       "    </tr>\n",
       "    <tr>\n",
       "      <th>5</th>\n",
       "      <td>3</td>\n",
       "      <td>0</td>\n",
       "      <td>200.0</td>\n",
       "      <td>200000000</td>\n",
       "      <td>2</td>\n",
       "      <td>1.0</td>\n",
       "    </tr>\n",
       "    <tr>\n",
       "      <th>6</th>\n",
       "      <td>1</td>\n",
       "      <td>0</td>\n",
       "      <td>99.0</td>\n",
       "      <td>100000000</td>\n",
       "      <td>1</td>\n",
       "      <td>1.0</td>\n",
       "    </tr>\n",
       "    <tr>\n",
       "      <th>7</th>\n",
       "      <td>3</td>\n",
       "      <td>2</td>\n",
       "      <td>10.0</td>\n",
       "      <td>25000000</td>\n",
       "      <td>1</td>\n",
       "      <td>0.0</td>\n",
       "    </tr>\n",
       "    <tr>\n",
       "      <th>...</th>\n",
       "      <td>...</td>\n",
       "      <td>...</td>\n",
       "      <td>...</td>\n",
       "      <td>...</td>\n",
       "      <td>...</td>\n",
       "      <td>...</td>\n",
       "    </tr>\n",
       "    <tr>\n",
       "      <th>32174</th>\n",
       "      <td>0</td>\n",
       "      <td>0</td>\n",
       "      <td>10.0</td>\n",
       "      <td>2300000</td>\n",
       "      <td>2</td>\n",
       "      <td>0.0</td>\n",
       "    </tr>\n",
       "    <tr>\n",
       "      <th>32175</th>\n",
       "      <td>0</td>\n",
       "      <td>0</td>\n",
       "      <td>10.0</td>\n",
       "      <td>1000000</td>\n",
       "      <td>1</td>\n",
       "      <td>0.0</td>\n",
       "    </tr>\n",
       "    <tr>\n",
       "      <th>32176</th>\n",
       "      <td>0</td>\n",
       "      <td>1</td>\n",
       "      <td>97.0</td>\n",
       "      <td>1500000</td>\n",
       "      <td>1</td>\n",
       "      <td>0.0</td>\n",
       "    </tr>\n",
       "    <tr>\n",
       "      <th>32177</th>\n",
       "      <td>0</td>\n",
       "      <td>0</td>\n",
       "      <td>4.0</td>\n",
       "      <td>500000</td>\n",
       "      <td>1</td>\n",
       "      <td>0.0</td>\n",
       "    </tr>\n",
       "    <tr>\n",
       "      <th>32178</th>\n",
       "      <td>0</td>\n",
       "      <td>0</td>\n",
       "      <td>3.0</td>\n",
       "      <td>600000</td>\n",
       "      <td>1</td>\n",
       "      <td>0.0</td>\n",
       "    </tr>\n",
       "  </tbody>\n",
       "</table>\n",
       "<p>31472 rows × 6 columns</p>\n",
       "</div>"
      ],
      "text/plain": [
       "       Uraian Jenis Perusahaan  Uraian Risiko Proyek  luas_tanah  \\\n",
       "3                            1                     0       300.0   \n",
       "4                            3                     0       500.0   \n",
       "5                            3                     0       200.0   \n",
       "6                            1                     0        99.0   \n",
       "7                            3                     2        10.0   \n",
       "...                        ...                   ...         ...   \n",
       "32174                        0                     0        10.0   \n",
       "32175                        0                     0        10.0   \n",
       "32176                        0                     1        97.0   \n",
       "32177                        0                     0         4.0   \n",
       "32178                        0                     0         3.0   \n",
       "\n",
       "       Jumlah Investasi  TKI  Uraian Skala Usaha  \n",
       "3             400000000   20                 1.0  \n",
       "4             300000000   14                 0.0  \n",
       "5             200000000    2                 1.0  \n",
       "6             100000000    1                 1.0  \n",
       "7              25000000    1                 0.0  \n",
       "...                 ...  ...                 ...  \n",
       "32174           2300000    2                 0.0  \n",
       "32175           1000000    1                 0.0  \n",
       "32176           1500000    1                 0.0  \n",
       "32177            500000    1                 0.0  \n",
       "32178            600000    1                 0.0  \n",
       "\n",
       "[31472 rows x 6 columns]"
      ]
     },
     "execution_count": 25,
     "metadata": {},
     "output_type": "execute_result"
    }
   ],
   "source": [
    "# memilih kolom dalam dataset\n",
    "selected_columns = [ 'Uraian Jenis Perusahaan',\t'Uraian Risiko Proyek', 'luas_tanah',\t'Jumlah Investasi',\t'TKI',\t'Uraian Skala Usaha']\n",
    "\n",
    "# Filter data untuk hanya menampilkan kolom dipilih\n",
    "data2 = data1[selected_columns]\n",
    "\n",
    "# Tampilkan hasil filter\n",
    "data2"
   ]
  },
  {
   "cell_type": "code",
   "execution_count": 26,
   "id": "90c56870-6947-4fec-aeb9-596018e80237",
   "metadata": {
    "tags": []
   },
   "outputs": [
    {
     "data": {
      "image/png": "[encoded data removed]",
      "text/plain": [
       "<Figure size 1000x600 with 2 Axes>"
      ]
     },
     "metadata": {},
     "output_type": "display_data"
    }
   ],
   "source": [
    "# Membuat heatmap\n",
    "plt.figure(figsize=(10, 6))\n",
    "heatmap = sns.heatmap(data2.corr(), annot=True, cmap=\"YlGnBu\", fmt=\".2f\")\n",
    "plt.title('Heatmap Hubungan Antar Variabel')\n",
    "plt.show()"
   ]
  },
  {
   "cell_type": "code",
   "execution_count": 27,
   "id": "8cfcadc6-15c6-4922-9f41-929c0531310a",
   "metadata": {
    "tags": []
   },
   "outputs": [
    {
     "name": "stdout",
     "output_type": "stream",
     "text": [
      "Akurasi model Random Forest: 0.9542494042891183\n"
     ]
    }
   ],
   "source": [
    "from sklearn.model_selection import train_test_split\n",
    "from sklearn.ensemble import RandomForestClassifier\n",
    "from sklearn.metrics import accuracy_score\n",
    "\n",
    "# Pisahkan fitur dan label\n",
    "X = data2[['Uraian Jenis Perusahaan',\t'Uraian Risiko Proyek', 'luas_tanah',\t'Jumlah Investasi',\t'TKI']]\n",
    "y = data2['Uraian Skala Usaha']\n",
    "\n",
    "# Bagi dataset menjadi data latih dan data uji\n",
    "X_train, X_test, y_train, y_test = train_test_split(X, y, test_size=0.2, random_state=42)\n",
    "\n",
    "# Inisialisasi model Random Forest Classifier\n",
    "model = RandomForestClassifier(random_state=42)\n",
    "\n",
    "# Latih model\n",
    "model.fit(X_train, y_train)\n",
    "\n",
    "# Prediksi label untuk data uji\n",
    "y_pred = model.predict(X_test)\n",
    "\n",
    "# Evaluasi kinerja model\n",
    "accuracy = accuracy_score(y_test, y_pred)\n",
    "print(\"Akurasi model Random Forest:\", accuracy)"
   ]
  },
  {
   "cell_type": "code",
   "execution_count": 28,
   "id": "9281c49b-e26e-4a6d-ad9e-ed396b943df0",
   "metadata": {
    "tags": []
   },
   "outputs": [
    {
     "name": "stdout",
     "output_type": "stream",
     "text": [
      "Akurasi model Naive Bayes: 0.9559968228752979\n"
     ]
    }
   ],
   "source": [
    "from sklearn.naive_bayes import GaussianNB\n",
    "\n",
    "# Inisialisasi model Naive Bayes\n",
    "nb_model = GaussianNB()\n",
    "\n",
    "# Latih model Naive Bayes\n",
    "nb_model.fit(X_train, y_train)\n",
    "\n",
    "# Prediksi label untuk data uji\n",
    "y_pred_nb = nb_model.predict(X_test)\n",
    "\n",
    "# Evaluasi kinerja model Naive Bayes\n",
    "accuracy_nb = accuracy_score(y_test, y_pred_nb)\n",
    "print(\"Akurasi model Naive Bayes:\", accuracy_nb)"
   ]
  },
  {
   "cell_type": "code",
   "execution_count": 29,
   "id": "0d5f447d-df6f-4729-bb26-e739c45c4e48",
   "metadata": {
    "tags": []
   },
   "outputs": [
    {
     "name": "stdout",
     "output_type": "stream",
     "text": [
      "Akurasi model Decision Tree: 0.9464654487688642\n"
     ]
    }
   ],
   "source": [
    "from sklearn.tree import DecisionTreeClassifier\n",
    "\n",
    "# Inisialisasi model Decision Tree\n",
    "dt_model = DecisionTreeClassifier(random_state=42)\n",
    "\n",
    "# Latih model Decision Tree\n",
    "dt_model.fit(X_train, y_train)\n",
    "\n",
    "# Prediksi label untuk data uji\n",
    "y_pred_dt = dt_model.predict(X_test)\n",
    "\n",
    "# Evaluasi kinerja model Decision Tree\n",
    "accuracy_dt = accuracy_score(y_test, y_pred_dt)\n",
    "print(\"Akurasi model Decision Tree:\", accuracy_dt)"
   ]
  },
  {
   "cell_type": "code",
   "execution_count": 30,
   "id": "b8796df4-c056-4415-8d1e-017567b8c208",
   "metadata": {
    "tags": []
   },
   "outputs": [
    {
     "data": {
      "image/png": "[encoded data removed]",
      "text/plain": [
       "<Figure size 1000x600 with 1 Axes>"
      ]
     },
     "metadata": {},
     "output_type": "display_data"
    }
   ],
   "source": [
    "import matplotlib.pyplot as plt\n",
    "import seaborn as sns\n",
    "\n",
    "# Data akurasi model\n",
    "models = ['Random Forest', 'Naive Bayes', 'Decision Tree']\n",
    "accuracies = [0.954, 0.955, 0.946]\n",
    "\n",
    "# Set up the plot\n",
    "plt.figure(figsize=(10, 6))\n",
    "sns.barplot(x=models, y=accuracies, palette='viridis')\n",
    "\n",
    "# Add titles and labels\n",
    "plt.title('Comparison of Model Accuracies', fontsize=16)\n",
    "plt.xlabel('Model', fontsize=14)\n",
    "plt.ylabel('Accuracy', fontsize=14)\n",
    "plt.ylim(0.9, 1.0)  # Adjust the y-axis limit to show the range of accuracies\n",
    "\n",
    "# Show the accuracy values on the bars\n",
    "for i, accuracy in enumerate(accuracies):\n",
    "    plt.text(i, accuracy + 0.002, f\"{accuracy:.3f}\", ha='center', fontsize=12)\n",
    "\n",
    "# Display the plot\n",
    "plt.show()"
   ]
  },
  {
   "cell_type": "code",
   "execution_count": null,
   "id": "fabc1fe4-c7d9-4be2-8566-7325f05da9ff",
   "metadata": {
    "tags": []
   },
   "outputs": [],
   "source": [
    "data_nan"
   ]
  },
  {
   "cell_type": "code",
   "execution_count": 32,
   "id": "1b7f15bd-6904-4820-9c0e-80c7caadabf5",
   "metadata": {
    "tags": []
   },
   "outputs": [],
   "source": [
    "data_nan = data_nan.drop(columns=['Judul Kbli'])"
   ]
  },
  {
   "cell_type": "code",
   "execution_count": null,
   "id": "a9fcd50f-a396-41b0-a2e8-deb5845c2d3a",
   "metadata": {
    "tags": []
   },
   "outputs": [],
   "source": [
    "# Prepare the features from data_nan\n",
    "X_nan = data_nan[['Uraian Jenis Perusahaan', 'Uraian Risiko Proyek', 'luas_tanah', 'Jumlah Investasi', 'TKI']]\n",
    "\n",
    "# Predict labels for the data with missing labels\n",
    "y_nan_pred = model.predict(X_nan)\n",
    "\n",
    "# Add the predictions to the data_nan DataFrame\n",
    "data_nan['Uraian Skala Usaha'] = y_nan_pred\n",
    "\n",
    "# Print the resulting DataFrame\n",
    "data_nan"
   ]
  },
  {
   "cell_type": "code",
   "execution_count": null,
   "id": "0163f818-136d-4815-bbfc-f2a77e8ce644",
   "metadata": {
    "tags": []
   },
   "outputs": [],
   "source": [
    "# Manually encode 'Uraian Jenis Perusahaan'\n",
    "company_mapping = {\n",
    "    'Perorangan': 0,\n",
    "    'PT': 1,\n",
    "    'CV': 3,\n",
    "    'PT Perorangan': 2,\n",
    "    'Badan Hukum Lainnya': 4,\n",
    "    'Koperasi': 5,\n",
    "    'Firma': 6,\n",
    "    'Persekutuan dan Perkumpulan': 7,\n",
    "    'Yayasan': 8,\n",
    "    'Perumda': 9,\n",
    "    'BLU': 10\n",
    "}\n",
    "inverse_company_mapping = {v: k for k, v in company_mapping.items()}\n",
    "\n",
    "# Manually encode 'Uraian Risiko Proyek'\n",
    "risk_mapping = {'Rendah': 0, 'Menengah Rendah': 1, 'Menengah Tinggi': 2, 'Tinggi': 3}\n",
    "inverse_risk_mapping = {v: k for k, v in risk_mapping.items()}\n",
    "\n",
    "# Manually encode 'Uraian Skala Usaha'\n",
    "scale_mapping = {'Usaha Kecil': 1, 'Usaha Menengah': 2, 'Usaha Mikro': 0}\n",
    "inverse_scale_mapping = {v: k for k, v in scale_mapping.items()}\n",
    "\n",
    "data2['Uraian Jenis Perusahaan'] = data2['Uraian Jenis Perusahaan'].map(company_mapping)\n",
    "data2['Uraian Risiko Proyek'] = data2['Uraian Risiko Proyek'].map(risk_mapping)\n",
    "data2['Uraian Skala Usaha'] = data2['Uraian Skala Usaha'].map(scale_mapping)\n",
    "# Reverse the encoding to return to original values\n",
    "data_nan['Uraian Jenis Perusahaan'] = data_nan['Uraian Jenis Perusahaan'].map(inverse_company_mapping)\n",
    "data_nan['Uraian Risiko Proyek'] = data_nan['Uraian Risiko Proyek'].map(inverse_risk_mapping)\n",
    "data_nan['Uraian Skala Usaha'] = data_nan['Uraian Skala Usaha'].map(inverse_scale_mapping)\n",
    "\n",
    "# Save the resulting DataFrame to a new Excel file\n",
    "data_nan.to_excel(\"data_nan_labeled.xlsx\", index=False)\n",
    "data_nan"
   ]
  }
 ],
 "metadata": {
  "kernelspec": {
   "display_name": "Python 3 (ipykernel)",
   "language": "python",
   "name": "python3"
  },
  "language_info": {
   "codemirror_mode": {
    "name": "ipython",
    "version": 3
   },
   "file_extension": ".py",
   "mimetype": "text/x-python",
   "name": "python",
   "nbconvert_exporter": "python",
   "pygments_lexer": "ipython3",
   "version": "3.11.5"
  }
 },
 "nbformat": 4,
 "nbformat_minor": 5
}
